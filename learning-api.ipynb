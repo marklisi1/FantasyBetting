{
 "cells": [
  {
   "cell_type": "code",
   "execution_count": 1,
   "metadata": {},
   "outputs": [],
   "source": [
    "import requests\n",
    "from dotenv import load_dotenv\n",
    "import os\n",
    "odds_response = requests.get(\n",
    "    'https://api.the-odds-api.com/v4/sports/basketball_nba/odds',\n",
    "    params={\n",
    "        'api_key': os.getenv(\"API_KEY\"),\n",
    "        'regions': 'us',\n",
    "        'markets': 'h2h',\n",
    "        'oddsFormat': 'decimal',\n",
    "        'dateFormat': 'iso',\n",
    "        'bookmakers': 'draftkings'\n",
    "    })"
   ]
  },
  {
   "cell_type": "code",
   "execution_count": 2,
   "metadata": {},
   "outputs": [],
   "source": [
    "json = odds_response.json()"
   ]
  },
  {
   "cell_type": "code",
   "execution_count": 3,
   "metadata": {},
   "outputs": [
    {
     "data": {
      "text/plain": [
       "[{'id': '4869ddd191401fe115d3b2ab76465611',\n",
       "  'sport_key': 'basketball_nba',\n",
       "  'sport_title': 'NBA',\n",
       "  'commence_time': '2023-12-31T20:10:00Z',\n",
       "  'home_team': 'Washington Wizards',\n",
       "  'away_team': 'Atlanta Hawks',\n",
       "  'bookmakers': [{'key': 'draftkings',\n",
       "    'title': 'DraftKings',\n",
       "    'last_update': '2023-12-31T18:51:38Z',\n",
       "    'markets': [{'key': 'h2h',\n",
       "      'last_update': '2023-12-31T18:51:38Z',\n",
       "      'outcomes': [{'name': 'Atlanta Hawks', 'price': 1.38},\n",
       "       {'name': 'Washington Wizards', 'price': 3.15}]}]}]},\n",
       " {'id': '7498e9ec73fcacfcbdf85c985e7f1cab',\n",
       "  'sport_key': 'basketball_nba',\n",
       "  'sport_title': 'NBA',\n",
       "  'commence_time': '2024-01-01T00:00:00Z',\n",
       "  'home_team': 'New Orleans Pelicans',\n",
       "  'away_team': 'Los Angeles Lakers',\n",
       "  'bookmakers': [{'key': 'draftkings',\n",
       "    'title': 'DraftKings',\n",
       "    'last_update': '2023-12-31T18:51:38Z',\n",
       "    'markets': [{'key': 'h2h',\n",
       "      'last_update': '2023-12-31T18:51:38Z',\n",
       "      'outcomes': [{'name': 'Los Angeles Lakers', 'price': 3.2},\n",
       "       {'name': 'New Orleans Pelicans', 'price': 1.37}]}]}]},\n",
       " {'id': '13329da1fbc39b449e6836142193640c',\n",
       "  'sport_key': 'basketball_nba',\n",
       "  'sport_title': 'NBA',\n",
       "  'commence_time': '2024-01-01T00:10:00Z',\n",
       "  'home_team': 'San Antonio Spurs',\n",
       "  'away_team': 'Boston Celtics',\n",
       "  'bookmakers': [{'key': 'draftkings',\n",
       "    'title': 'DraftKings',\n",
       "    'last_update': '2023-12-31T18:51:38Z',\n",
       "    'markets': [{'key': 'h2h',\n",
       "      'last_update': '2023-12-31T18:51:38Z',\n",
       "      'outcomes': [{'name': 'Boston Celtics', 'price': 1.1},\n",
       "       {'name': 'San Antonio Spurs', 'price': 7.75}]}]}]},\n",
       " {'id': '6091c5c29e4cb508bca51e72bb2f6c87',\n",
       "  'sport_key': 'basketball_nba',\n",
       "  'sport_title': 'NBA',\n",
       "  'commence_time': '2024-01-01T00:10:00Z',\n",
       "  'home_team': 'Oklahoma City Thunder',\n",
       "  'away_team': 'Brooklyn Nets',\n",
       "  'bookmakers': [{'key': 'draftkings',\n",
       "    'title': 'DraftKings',\n",
       "    'last_update': '2023-12-31T18:51:38Z',\n",
       "    'markets': [{'key': 'h2h',\n",
       "      'last_update': '2023-12-31T18:51:38Z',\n",
       "      'outcomes': [{'name': 'Brooklyn Nets', 'price': 3.45},\n",
       "       {'name': 'Oklahoma City Thunder', 'price': 1.33}]}]}]},\n",
       " {'id': 'eb434b59d540e88c93f543ec92975b7a',\n",
       "  'sport_key': 'basketball_nba',\n",
       "  'sport_title': 'NBA',\n",
       "  'commence_time': '2024-01-01T01:10:00Z',\n",
       "  'home_team': 'Memphis Grizzlies',\n",
       "  'away_team': 'Sacramento Kings',\n",
       "  'bookmakers': [{'key': 'draftkings',\n",
       "    'title': 'DraftKings',\n",
       "    'last_update': '2023-12-31T18:51:38Z',\n",
       "    'markets': [{'key': 'h2h',\n",
       "      'last_update': '2023-12-31T18:51:38Z',\n",
       "      'outcomes': [{'name': 'Memphis Grizzlies', 'price': 1.91},\n",
       "       {'name': 'Sacramento Kings', 'price': 1.91}]}]}]},\n",
       " {'id': '25348b429f9584571659f556664423a6',\n",
       "  'sport_key': 'basketball_nba',\n",
       "  'sport_title': 'NBA',\n",
       "  'commence_time': '2024-01-01T01:10:00Z',\n",
       "  'home_team': 'Phoenix Suns',\n",
       "  'away_team': 'Orlando Magic',\n",
       "  'bookmakers': [{'key': 'draftkings',\n",
       "    'title': 'DraftKings',\n",
       "    'last_update': '2023-12-31T18:51:38Z',\n",
       "    'markets': [{'key': 'h2h',\n",
       "      'last_update': '2023-12-31T18:51:38Z',\n",
       "      'outcomes': [{'name': 'Orlando Magic', 'price': 2.8},\n",
       "       {'name': 'Phoenix Suns', 'price': 1.46}]}]}]}]"
      ]
     },
     "execution_count": 3,
     "metadata": {},
     "output_type": "execute_result"
    }
   ],
   "source": [
    "json"
   ]
  },
  {
   "cell_type": "code",
   "execution_count": 36,
   "metadata": {},
   "outputs": [],
   "source": [
    "home_team = json[0]['bookmakers'][0]['markets'][0]['outcomes'][0]['name']\n",
    "home_odds = json[0]['bookmakers'][0]['markets'][0]['outcomes'][0]['price']"
   ]
  },
  {
   "cell_type": "code",
   "execution_count": 38,
   "metadata": {},
   "outputs": [
    {
     "name": "stdout",
     "output_type": "stream",
     "text": [
      "Brooklyn Nets (1.42) versus Washington Wizards (2.95)\n",
      "New York Knicks (1.87) versus Orlando Magic (1.95)\n",
      "Boston Celtics (1.42) versus Toronto Raptors (2.95)\n",
      "Atlanta Hawks (1.89) versus Sacramento Kings (1.91)\n",
      "Cleveland Cavaliers (2.95) versus Milwaukee Bucks (1.42)\n",
      "Houston Rockets (1.98) versus Philadelphia 76ers (1.85)\n",
      "Charlotte Hornets (9.0) versus Phoenix Suns (1.07)\n",
      "Denver Nuggets (1.83) versus Oklahoma City Thunder (2.0)\n",
      "Portland Trail Blazers (1.44) versus San Antonio Spurs (2.85)\n",
      "Los Angeles Clippers (1.38) versus Memphis Grizzlies (3.15)\n",
      "Detroit Pistons (2.42) versus Toronto Raptors (1.59)\n"
     ]
    }
   ],
   "source": [
    "for game in json:\n",
    "    home_team = game['bookmakers'][0]['markets'][0]['outcomes'][0]['name']\n",
    "    home_odds = game['bookmakers'][0]['markets'][0]['outcomes'][0]['price']\n",
    "    away_team = game['bookmakers'][0]['markets'][0]['outcomes'][1]['name']\n",
    "    away_odds = game['bookmakers'][0]['markets'][0]['outcomes'][1]['price']\n",
    "    print(f'{home_team} ({home_odds}) versus {away_team} ({away_odds})')"
   ]
  },
  {
   "cell_type": "code",
   "execution_count": null,
   "metadata": {},
   "outputs": [],
   "source": []
  }
 ],
 "metadata": {
  "kernelspec": {
   "display_name": "Python 3.9.12 ('base')",
   "language": "python",
   "name": "python3"
  },
  "language_info": {
   "codemirror_mode": {
    "name": "ipython",
    "version": 3
   },
   "file_extension": ".py",
   "mimetype": "text/x-python",
   "name": "python",
   "nbconvert_exporter": "python",
   "pygments_lexer": "ipython3",
   "version": "3.9.12"
  },
  "orig_nbformat": 4,
  "vscode": {
   "interpreter": {
    "hash": "f9d40f6b970ea3f51adb5ed7f49e8a510c33ccb1058a1f9885c04a7222549a76"
   }
  }
 },
 "nbformat": 4,
 "nbformat_minor": 2
}
